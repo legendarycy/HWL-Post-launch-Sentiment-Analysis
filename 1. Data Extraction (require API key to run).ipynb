{
 "cells": [
  {
   "cell_type": "code",
   "execution_count": null,
   "id": "eb952c87",
   "metadata": {
    "id": "eb952c87"
   },
   "outputs": [],
   "source": [
    "import re\n",
    "import os\n",
    "import io\n",
    "import praw\n",
    "import nltk\n",
    "import time\n",
    "import math\n",
    "import stanza\n",
    "import string\n",
    "\n",
    "import numpy as np\n",
    "import pandas as pd\n",
    "import datetime as dt"
   ]
  },
  {
   "cell_type": "markdown",
   "id": "4d2a2f30",
   "metadata": {
    "id": "4d2a2f30"
   },
   "source": [
    "<h3>1. Getting text data from reddit with PRAW</h3>"
   ]
  },
  {
   "cell_type": "code",
   "execution_count": null,
   "id": "e308fc51",
   "metadata": {
    "id": "e308fc51"
   },
   "outputs": [],
   "source": [
    "#authentication information for PRAW\n",
    "client_id = 'H61SWl0sMBRXTQ'\n",
    "secret = 'Kqx0-4gpMhNjFJv95Wt3hf71xwvVfg'\n",
    "user_agent = r\"Mozilla/5.0 (Windows NT 10.0; Win64; x64) AppleWebKit/537.36 (KHTML, like Gecko) Chrome/109.0.0.0 Safari/537.36\"\n",
    "\n",
    "#initialize connection\n",
    "reddit = praw.Reddit(\n",
    "    client_id = client_id,\n",
    "    client_secret = secret,\n",
    "    user_agent = user_agent,\n",
    ")"
   ]
  },
  {
   "cell_type": "code",
   "execution_count": null,
   "id": "4f569cbb",
   "metadata": {
    "id": "4f569cbb"
   },
   "outputs": [],
   "source": [
    "#empty df to hold submission stats\n",
    "df = pd.DataFrame(columns = [\n",
    "    'created', 'id', \n",
    "    'content', 'num_comments', \n",
    "    'score', 'type', \n",
    "    'post_affiliation'\n",
    "])\n",
    "\n",
    "#get top 1000 most popular posts over the last year\n",
    "subreddit = reddit.subreddit('HarryPotterGame')\n",
    "for submission in subreddit.top(limit = 1000, time_filter = 'year'):\n",
    "    #print and save post info\n",
    "    print(f'{dt.datetime.fromtimestamp(submission.created_utc)} |\\\n",
    "    post_id: {submission}\\\n",
    "    upvotes: {submission.score} |\\\n",
    "    comment count: {submission.num_comments}')\n",
    "    print(f'{submission.title}\\n')\n",
    "    print(\"*\"*100)\n",
    "    \n",
    "    df.loc[len(df)] = [\n",
    "        dt.datetime.fromtimestamp(submission.created_utc),\n",
    "        submission,\n",
    "        submission.title,\n",
    "        submission.num_comments,\n",
    "        submission.score,\n",
    "        'post',\n",
    "        np.nan\n",
    "    ]\n",
    "    \n",
    "    #print and save comment info\n",
    "    for comment in submission.comments[:40]:\n",
    "        print(f\"created: {dt.datetime.fromtimestamp(comment.created_utc)} |\\\n",
    "        upvotes: {comment.score} |\\\n",
    "        comment_id: {comment}\")\n",
    "        print(f'{comment.body}\\n')\n",
    "        \n",
    "        df.loc[len(df)] = [\n",
    "            dt.datetime.fromtimestamp(comment.created_utc),\n",
    "            comment,\n",
    "            comment.body,\n",
    "            np.nan,\n",
    "            comment.score,\n",
    "            'comment',\n",
    "            submission\n",
    "        ]\n",
    "    print('='*100)\n",
    "print('completed')"
   ]
  },
  {
   "cell_type": "code",
   "execution_count": null,
   "id": "32544679",
   "metadata": {
    "colab": {
     "base_uri": "https://localhost:8080/",
     "height": 345
    },
    "id": "32544679",
    "outputId": "fa35e75c-7b4a-4e5a-9b98-c7d8b3a03d2a"
   },
   "outputs": [],
   "source": [
    "#save file (don't need to run the next time we open the file)\n",
    "#df.to_csv('top_posts_year.csv', index =  False)\n",
    "#print('saved')\n",
    "\n",
    "#load file\n",
    "df = pd.read_csv('top_posts_year.csv')\n",
    "df.head()"
   ]
  },
  {
   "cell_type": "code",
   "execution_count": null,
   "id": "61e0ecaf",
   "metadata": {},
   "outputs": [],
   "source": [
    "#get month and year of creation for splitting of data later\n",
    "df['created'] = pd.to_datetime(df['created'])\n",
    "df['month'] = df['created'].dt.month\n",
    "df['year'] = df['created'].dt.year"
   ]
  },
  {
   "cell_type": "code",
   "execution_count": null,
   "id": "3012cce2",
   "metadata": {},
   "outputs": [],
   "source": [
    "#condense into function requiring only main dataframe, post dataframe, number of posts to grab\n",
    "def get_sample(df, post_df, n_posts, rs):\n",
    "    #create empty dataframe to hold posts and comments\n",
    "    post_pool = pd.DataFrame(columns = df.columns)\n",
    "    \n",
    "    #get posts with 20 or more comments\n",
    "    for id in post_df['id']:\n",
    "        if len(df.loc[df['post_affiliation'] == id].index) >= 20:\n",
    "            row = post_df.loc[post_df['id'] == id]\n",
    "            post_pool = post_pool.append(row)\n",
    "\n",
    "    #proportion of posts/comments to take from each time period\n",
    "    split_proportion = pd.DataFrame(post_pool.groupby(['month', 'year']).size() / len(post_df.index))\n",
    "    \n",
    "    #determine multiplier to apply to proportion df to obtain n_posts and 20 * n_posts comments\n",
    "    multiplier = 0\n",
    "    for n in range(0, 1000):\n",
    "        sample_size = split_proportion.iloc[:,0].apply(lambda x: math.ceil(x*n)).sum()\n",
    "        if sample_size >= n_posts:\n",
    "            multiplier = n\n",
    "            break\n",
    "            \n",
    "    #create empty dataframe to hold selected comments and post\n",
    "    selected = pd.DataFrame()\n",
    "\n",
    "    #for posts from each time period\n",
    "    for (month, year) in split_proportion.index:\n",
    "        #get probability of posts to retrieve for this time period\n",
    "        prop = split_proportion.loc[split_proportion.index == (month, year)].iat[0, 0]\n",
    "        selected_posts = post_pool.loc[(post_pool['month'] == month) & (post_pool['year'] == year)]\\\n",
    "        .sample(n = math.ceil(prop*74), random_state = rs)\n",
    "\n",
    "        #add selected posts to the results dataframe\n",
    "        if len(selected.index) == 0:\n",
    "            selected = selected_posts\n",
    "        else:\n",
    "            selected = pd.concat([selected, selected_posts])\n",
    "\n",
    "        #filter out and randomly sample (proportion x total rows) number of rows\n",
    "        for pid in selected_posts['id']:\n",
    "            #randomly sample 20 comments\n",
    "            comment_pool = df.loc[df['post_affiliation'] == pid]\n",
    "            comments = comment_pool.sample(n = 20, random_state = rs)\n",
    "            #add selected comments to the results dataframe\n",
    "            selected = pd.concat([selected, comments])\n",
    "    print()\n",
    "    return selected"
   ]
  },
  {
   "cell_type": "code",
   "execution_count": null,
   "id": "048659b0",
   "metadata": {},
   "outputs": [],
   "source": [
    "#posts before early access date of 7 Feb 2023 6pm GMT\n",
    "posts_bef = df.loc[(pd.to_datetime(df['created'])<dt.datetime(2023,2,7,6,0,0)) & (df['type'] == 'post')]\n",
    "\n",
    "#posts after early access date\n",
    "posts_aft = df.loc[(pd.to_datetime(df['created'])>dt.datetime(2023,2,7,6,0,0)) & (df['type'] == 'post')]"
   ]
  },
  {
   "cell_type": "code",
   "execution_count": null,
   "id": "66a9e03d",
   "metadata": {},
   "outputs": [],
   "source": [
    "sample_bef = get_sample(df, posts_bef, 100, 40)\n",
    "sample_aft = get_sample(df, posts_aft, 100, 40)\n",
    "\n",
    "#save; dont run as it'll overwrite the labelled file\n",
    "#pd.concat([sample_bef, sample_aft], axis = 1).to_csv('to_label.csv', index = False)"
   ]
  },
  {
   "cell_type": "code",
   "execution_count": null,
   "id": "931d6d0f",
   "metadata": {},
   "outputs": [],
   "source": []
  }
 ],
 "metadata": {
  "colab": {
   "provenance": []
  },
  "kernelspec": {
   "display_name": "Python 3 (ipykernel)",
   "language": "python",
   "name": "python3"
  },
  "language_info": {
   "codemirror_mode": {
    "name": "ipython",
    "version": 3
   },
   "file_extension": ".py",
   "mimetype": "text/x-python",
   "name": "python",
   "nbconvert_exporter": "python",
   "pygments_lexer": "ipython3",
   "version": "3.9.12"
  },
  "varInspector": {
   "cols": {
    "lenName": 16,
    "lenType": 16,
    "lenVar": 40
   },
   "kernels_config": {
    "python": {
     "delete_cmd_postfix": "",
     "delete_cmd_prefix": "del ",
     "library": "var_list.py",
     "varRefreshCmd": "print(var_dic_list())"
    },
    "r": {
     "delete_cmd_postfix": ") ",
     "delete_cmd_prefix": "rm(",
     "library": "var_list.r",
     "varRefreshCmd": "cat(var_dic_list()) "
    }
   },
   "types_to_exclude": [
    "module",
    "function",
    "builtin_function_or_method",
    "instance",
    "_Feature"
   ],
   "window_display": false
  }
 },
 "nbformat": 4,
 "nbformat_minor": 5
}
